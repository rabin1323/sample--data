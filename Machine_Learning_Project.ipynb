{
  "cells": [
    {
      "cell_type": "markdown",
      "metadata": {
        "id": "view-in-github",
        "colab_type": "text"
      },
      "source": [
        "<a href=\"https://colab.research.google.com/github/rabin1323/sample--data/blob/main/Machine_Learning_Project.ipynb\" target=\"_parent\"><img src=\"https://colab.research.google.com/assets/colab-badge.svg\" alt=\"Open In Colab\"/></a>"
      ]
    },
    {
      "cell_type": "markdown",
      "source": [
        ""
      ],
      "metadata": {
        "id": "p-wNA2BOmgl-"
      }
    },
    {
      "cell_type": "markdown",
      "source": [
        ""
      ],
      "metadata": {
        "id": "skZ5QGkEmrsG"
      }
    },
    {
      "cell_type": "markdown",
      "source": [
        "This is a Email Classification Code work:"
      ],
      "metadata": {
        "id": "tvz0Ba4AmzYF"
      }
    },
    {
      "cell_type": "code",
      "execution_count": null,
      "metadata": {
        "id": "yEJu_Wyfl0DK"
      },
      "outputs": [],
      "source": [
        "# Import LIbraries:\n",
        "import numpy as np\n",
        "import pandas as pd\n",
        "import nltk\n",
        "from nltk.corpus import stopwords\n",
        "import string\n",
        "from sklearn.feature_extraction.text import CountVectorizer\n",
        "from sklearn.model_selection import train_test_split\n",
        "from sklearn.metrics import classification_report, confusion_matrix, accuracy_score\n",
        "from sklearn.naive_bayes import MultinomialNB\n",
        "from sklearn.tree import DecisionTreeClassifier \n",
        "from sklearn.svm import SVC, LinearSVC\n",
        "from sklearn.ensemble import RandomForestClassifier\n",
        "from sklearn.neural_network import MLPClassifier\n",
        "from sklearn.neighbors import KNeighborsClassifier\n",
        "from sklearn.ensemble import AdaBoostClassifier"
      ]
    },
    {
      "cell_type": "code",
      "execution_count": null,
      "metadata": {
        "id": "3IqNKtyql0DM",
        "outputId": "d455fa0a-7b2a-4654-a764-2a2c3b0b822c"
      },
      "outputs": [
        {
          "name": "stdout",
          "output_type": "stream",
          "text": [
            "<class 'pandas.core.frame.DataFrame'>\n",
            "RangeIndex: 5728 entries, 0 to 5727\n",
            "Data columns (total 2 columns):\n",
            " #   Column  Non-Null Count  Dtype \n",
            "---  ------  --------------  ----- \n",
            " 0   text    5728 non-null   object\n",
            " 1   spam    5728 non-null   int64 \n",
            "dtypes: int64(1), object(1)\n",
            "memory usage: 89.6+ KB\n",
            "                                                text  spam\n",
            "0  Subject: naturally irresistible your corporate...     1\n",
            "1  Subject: the stock trading gunslinger  fanny i...     1\n",
            "2  Subject: unbelievable new homes made easy  im ...     1\n",
            "3  Subject: 4 color printing special  request add...     1\n",
            "4  Subject: do not have money , get software cds ...     1\n",
            "5  Subject: great nnews  hello , welcome to medzo...     1\n",
            "6  Subject: here ' s a hot play in motion  homela...     1\n",
            "7  Subject: save your money buy getting this thin...     1\n",
            "8  Subject: undeliverable : home based business f...     1\n",
            "9  Subject: save your money buy getting this thin...     1\n"
          ]
        }
      ],
      "source": [
        "#Load the data\n",
        "df = pd.read_csv(\"https://raw.githubusercontent.com/rabin1323/Data_Set/main/Emails.csv\")\n",
        "df.info()\n",
        "\n",
        "print(df.head(10))\n"
      ]
    },
    {
      "cell_type": "code",
      "execution_count": null,
      "metadata": {
        "id": "eD-nsR_pl0DN",
        "outputId": "c3894781-aa14-4695-965a-45d0a1ca8e59"
      },
      "outputs": [
        {
          "data": {
            "text/plain": [
              "Index(['text', 'spam'], dtype='object')"
            ]
          },
          "execution_count": 43,
          "metadata": {},
          "output_type": "execute_result"
        }
      ],
      "source": [
        "# Get the column names:\n",
        "df.columns"
      ]
    },
    {
      "cell_type": "code",
      "execution_count": null,
      "metadata": {
        "id": "8UU1j9JJl0DN"
      },
      "outputs": [],
      "source": [
        "#Check for dplicates and remove them\n",
        "df.drop_duplicates(inplace =True)"
      ]
    },
    {
      "cell_type": "code",
      "execution_count": null,
      "metadata": {
        "id": "rdYfvy3jl0DO",
        "outputId": "ce1c46bf-3b68-4c2a-9bcb-e1534df8e59d"
      },
      "outputs": [
        {
          "data": {
            "text/plain": [
              "(5695, 2)"
            ]
          },
          "execution_count": 45,
          "metadata": {},
          "output_type": "execute_result"
        }
      ],
      "source": [
        "#Show the new shape (number of rows and columns)\n",
        "df.shape"
      ]
    },
    {
      "cell_type": "code",
      "execution_count": null,
      "metadata": {
        "id": "P-x6gSCll0DO",
        "outputId": "a1b4a618-132e-4fbd-eca9-7b451bf8cc38"
      },
      "outputs": [
        {
          "data": {
            "text/plain": [
              "text    0\n",
              "spam    0\n",
              "dtype: int64"
            ]
          },
          "execution_count": 46,
          "metadata": {},
          "output_type": "execute_result"
        }
      ],
      "source": [
        "#Show the number of missing (NAN, NaN, na) data for each column\n",
        "df.isnull().sum()\n"
      ]
    },
    {
      "cell_type": "code",
      "execution_count": null,
      "metadata": {
        "id": "bvtjwLxpl0DP",
        "outputId": "54df2c18-8753-43e7-a91a-52bf742558ae"
      },
      "outputs": [
        {
          "name": "stderr",
          "output_type": "stream",
          "text": [
            "[nltk_data] Downloading package stopwords to /Users/rabin/nltk_data...\n",
            "[nltk_data]   Package stopwords is already up-to-date!\n"
          ]
        },
        {
          "data": {
            "text/plain": [
              "True"
            ]
          },
          "execution_count": 47,
          "metadata": {},
          "output_type": "execute_result"
        }
      ],
      "source": [
        "#Download the stopwords package\n",
        "nltk.download('stopwords')"
      ]
    },
    {
      "cell_type": "code",
      "execution_count": null,
      "metadata": {
        "id": "oMKh0cOtl0DP"
      },
      "outputs": [],
      "source": [
        "\n",
        "def process_text(text):\n",
        "    #1 remove the punctuation\n",
        "    #2 remove stopwords\n",
        "    #3 return a list of clean text words;\n",
        "    \n",
        "    #1\n",
        "    nopunc = [char for char in text if char not in string.punctuation]\n",
        "    nopunc = ''.join(nopunc)\n",
        "    \n",
        "    #2\n",
        "    clean_words = [word for word in nopunc.split() if word.lower() not in stopwords.words('english')]\n",
        "    \n",
        "    #3\n",
        "    return clean_words"
      ]
    },
    {
      "cell_type": "code",
      "execution_count": null,
      "metadata": {
        "id": "_4v7j_IKl0DQ",
        "outputId": "0a808bb4-97f7-47be-f863-6c268d5ed117"
      },
      "outputs": [
        {
          "data": {
            "text/plain": [
              "0    [Subject, naturally, irresistible, corporate, ...\n",
              "1    [Subject, stock, trading, gunslinger, fanny, m...\n",
              "2    [Subject, unbelievable, new, homes, made, easy...\n",
              "3    [Subject, 4, color, printing, special, request...\n",
              "4    [Subject, money, get, software, cds, software,...\n",
              "Name: text, dtype: object"
            ]
          },
          "execution_count": 49,
          "metadata": {},
          "output_type": "execute_result"
        }
      ],
      "source": [
        "#Show the tokenization (a list of tokens also lemmas)\n",
        "df['text'].head(5).apply(process_text)"
      ]
    },
    {
      "cell_type": "code",
      "execution_count": null,
      "metadata": {
        "id": "dpgBwdN0l0DQ"
      },
      "outputs": [],
      "source": [
        "#Convert a Collection of text to a matrix of tokens:\n",
        "messages_bow = CountVectorizer (analyzer = process_text).fit_transform(df['text'])"
      ]
    },
    {
      "cell_type": "code",
      "execution_count": null,
      "metadata": {
        "id": "xqfDE57ll0DR"
      },
      "outputs": [],
      "source": [
        "#Split the data into 80% training and 20% testing\n",
        "X_train, X_test, y_train, y_test = train_test_split(messages_bow, df['spam'],test_size= 0.2,shuffle  = True)"
      ]
    },
    {
      "cell_type": "code",
      "execution_count": null,
      "metadata": {
        "id": "Tq-7acVZl0DR",
        "outputId": "795a9dc8-f2c7-47ee-fe4e-933a22e69a5e"
      },
      "outputs": [
        {
          "data": {
            "text/plain": [
              "(5695, 37229)"
            ]
          },
          "execution_count": 115,
          "metadata": {},
          "output_type": "execute_result"
        }
      ],
      "source": [
        "#Get the shape of messages_bow\n",
        "messages_bow.shape"
      ]
    },
    {
      "cell_type": "code",
      "execution_count": null,
      "metadata": {
        "id": "lPbDYG5Wl0DS"
      },
      "outputs": [],
      "source": [
        "#Create and train the Naive Bayes Classifier:\n",
        "cf = MultinomialNB().fit(X_train,y_train)"
      ]
    },
    {
      "cell_type": "code",
      "execution_count": null,
      "metadata": {
        "id": "9jXOL7bRl0DS",
        "outputId": "09c0620d-10b0-489d-8d81-585035948824"
      },
      "outputs": [
        {
          "name": "stdout",
          "output_type": "stream",
          "text": [
            "[0 0 1 ... 0 0 0]\n",
            "[0 0 1 ... 0 0 0]\n"
          ]
        }
      ],
      "source": [
        "#Print the predictions:\n",
        "print(cf.predict(X_train))\n",
        "\n",
        "#print the actual values:\n",
        "print(y_train.values)"
      ]
    },
    {
      "cell_type": "code",
      "execution_count": null,
      "metadata": {
        "id": "3bwKiGqml0DS",
        "outputId": "7d3ed99b-f19a-4f94-a800-4a773948d3e6"
      },
      "outputs": [
        {
          "name": "stdout",
          "output_type": "stream",
          "text": [
            "              precision    recall  f1-score   support\n",
            "\n",
            "           0       1.00      1.00      1.00      3464\n",
            "           1       0.99      1.00      0.99      1092\n",
            "\n",
            "    accuracy                           1.00      4556\n",
            "   macro avg       1.00      1.00      1.00      4556\n",
            "weighted avg       1.00      1.00      1.00      4556\n",
            "\n",
            "\n",
            "Confusion Matrix:  \n",
            " [[3454   10]\n",
            " [   3 1089]]\n",
            "\n",
            "Accuracty :  \n",
            " 0.9971466198419666\n"
          ]
        }
      ],
      "source": [
        "#Evaluate the model on the training data set\n",
        "pred = cf.predict(X_train)\n",
        "print(classification_report(y_train,pred))\n",
        "print()\n",
        "print('Confusion Matrix:  \\n', confusion_matrix(y_train,pred))\n",
        "print()\n",
        "print('Accuracty :  \\n',accuracy_score(y_train,pred) )"
      ]
    },
    {
      "cell_type": "code",
      "execution_count": null,
      "metadata": {
        "id": "yLGVw2k7l0DT",
        "outputId": "873ed237-44ea-4d19-ae7f-97dc1a530bbd"
      },
      "outputs": [
        {
          "name": "stdout",
          "output_type": "stream",
          "text": [
            "[0 0 0 ... 0 1 1]\n",
            "[0 0 1 ... 0 0 0]\n",
            "              precision    recall  f1-score   support\n",
            "\n",
            "           0       1.00      0.99      0.99       863\n",
            "           1       0.97      1.00      0.98       276\n",
            "\n",
            "    accuracy                           0.99      1139\n",
            "   macro avg       0.99      0.99      0.99      1139\n",
            "weighted avg       0.99      0.99      0.99      1139\n",
            "\n",
            "\n",
            "Confusion Matrix:  \n",
            " [[855   8]\n",
            " [  1 275]]\n",
            "\n",
            "Accuracty :  \n",
            " 0.9920983318700615\n"
          ]
        }
      ],
      "source": [
        "#prediction on test data:\n",
        "print(cf.predict(X_test))\n",
        "\n",
        "#print the actual values:\n",
        "print(y_train.values)\n",
        "\n",
        "#Evaluate the model on the Test data set\n",
        "from sklearn.metrics import classification_report, confusion_matrix, accuracy_score\n",
        "pred = cf.predict(X_test)\n",
        "print(classification_report(y_test,pred))\n",
        "print()\n",
        "print('Confusion Matrix:  \\n', confusion_matrix(y_test,pred))\n",
        "print()\n",
        "print('Accuracty :  \\n',accuracy_score(y_test,pred) )\n"
      ]
    },
    {
      "cell_type": "code",
      "execution_count": null,
      "metadata": {
        "id": "g74IJPXpl0DU",
        "outputId": "85bd83ad-f804-4547-cc68-c2b4da179cc2"
      },
      "outputs": [
        {
          "name": "stdout",
          "output_type": "stream",
          "text": [
            "[0 0 0 ... 0 1 1]\n",
            "[0 0 1 ... 0 0 0]\n",
            "              precision    recall  f1-score   support\n",
            "\n",
            "           0       0.98      0.97      0.98       863\n",
            "           1       0.92      0.94      0.93       276\n",
            "\n",
            "    accuracy                           0.96      1139\n",
            "   macro avg       0.95      0.96      0.95      1139\n",
            "weighted avg       0.97      0.96      0.97      1139\n",
            "\n",
            "\n",
            "Confusion Matrix:  \n",
            " [[839  24]\n",
            " [ 16 260]]\n",
            "\n",
            "Accuracty :  \n",
            " 0.9648814749780509\n"
          ]
        }
      ],
      "source": [
        "#Using Decision Tree:\n",
        "#create and fit tree model\n",
        "model_tree=DecisionTreeClassifier()\n",
        "\n",
        "model_tree.fit(X_train,y_train)\n",
        "\n",
        "#prediction on test data:\n",
        "print(cf.predict(X_test))\n",
        "\n",
        "#print the actual values:\n",
        "print(y_train.values)\n",
        "\n",
        "#Evaluate the model on the Test data set\n",
        "from sklearn.metrics import classification_report, confusion_matrix, accuracy_score\n",
        "pred = model_tree.predict(X_test)\n",
        "print(classification_report(y_test,pred))\n",
        "print()\n",
        "print('Confusion Matrix:  \\n', confusion_matrix(y_test,pred))\n",
        "print()\n",
        "print('Accuracty :  \\n',accuracy_score(y_test,pred) )\n",
        "\n"
      ]
    },
    {
      "cell_type": "code",
      "execution_count": null,
      "metadata": {
        "id": "BIRD9W8Gl0DW",
        "outputId": "2e3da855-85da-4c6d-c3f9-5558e416e18e"
      },
      "outputs": [
        {
          "name": "stdout",
          "output_type": "stream",
          "text": [
            "[0 0 0 ... 0 1 1]\n",
            "[0 0 1 ... 0 0 0]\n",
            "              precision    recall  f1-score   support\n",
            "\n",
            "           0       0.97      1.00      0.98       863\n",
            "           1       0.98      0.89      0.93       276\n",
            "\n",
            "    accuracy                           0.97      1139\n",
            "   macro avg       0.97      0.94      0.96      1139\n",
            "weighted avg       0.97      0.97      0.97      1139\n",
            "\n",
            "\n",
            "Confusion Matrix:  \n",
            " [[859   4]\n",
            " [ 31 245]]\n",
            "\n",
            "Accuracty :  \n",
            " 0.9692712906057945\n"
          ]
        }
      ],
      "source": [
        "#Using SVM model:\n",
        "#create and fit SVM model\n",
        "model_svm=SVC()\n",
        "model_svm.fit(X_train,y_train)\n",
        "\n",
        "\n",
        "#prediction on test data:\n",
        "print(cf.predict(X_test))\n",
        "\n",
        "#print the actual values:\n",
        "print(y_train.values)\n",
        "\n",
        "#Evaluate the model on the Test dataset\n",
        "from sklearn.metrics import classification_report, confusion_matrix, accuracy_score\n",
        "pred = model_svm.predict(X_test)\n",
        "print(classification_report(y_test,pred))\n",
        "print()\n",
        "print('Confusion Matrix:  \\n', confusion_matrix(y_test,pred))\n",
        "print()\n",
        "print('Accuracty :  \\n',accuracy_score(y_test,pred) )\n",
        "\n"
      ]
    },
    {
      "cell_type": "code",
      "execution_count": null,
      "metadata": {
        "id": "_IXC_KQYl0DX",
        "outputId": "b0e4cade-cb13-4b5e-c7b1-d0f38202ba9e"
      },
      "outputs": [
        {
          "name": "stdout",
          "output_type": "stream",
          "text": [
            "[0 0 0 ... 0 1 1]\n",
            "[0 0 1 ... 0 0 0]\n",
            "              precision    recall  f1-score   support\n",
            "\n",
            "           0       0.98      1.00      0.99       863\n",
            "           1       1.00      0.93      0.96       276\n",
            "\n",
            "    accuracy                           0.98      1139\n",
            "   macro avg       0.99      0.96      0.98      1139\n",
            "weighted avg       0.98      0.98      0.98      1139\n",
            "\n",
            "\n",
            "Confusion Matrix:  \n",
            " [[863   0]\n",
            " [ 20 256]]\n",
            "\n",
            "Accuracty :  \n",
            " 0.9824407374890255\n"
          ]
        }
      ],
      "source": [
        "#Using random forest model:\n",
        "#create and fit model\n",
        "model_rf=RandomForestClassifier(n_estimators=20,criterion='entropy')\n",
        "\n",
        "model_rf.fit(X_train,y_train)\n",
        "\n",
        "\n",
        "#prediction on test data:\n",
        "print(cf.predict(X_test))\n",
        "\n",
        "#print the actual values:\n",
        "print(y_train.values)\n",
        "\n",
        "#Evaluate the model on the Test datatset\n",
        "from sklearn.metrics import classification_report, confusion_matrix, accuracy_score\n",
        "pred = model_rf.predict(X_test)\n",
        "print(classification_report(y_test,pred))\n",
        "print()\n",
        "print('Confusion Matrix:  \\n', confusion_matrix(y_test,pred))\n",
        "print()\n",
        "print('Accuracty :  \\n',accuracy_score(y_test,pred) )\n"
      ]
    },
    {
      "cell_type": "code",
      "execution_count": null,
      "metadata": {
        "id": "dPqyErwQl0DY",
        "outputId": "aec5d57c-5ae1-4cce-ab99-8f234c06d07d"
      },
      "outputs": [
        {
          "name": "stdout",
          "output_type": "stream",
          "text": [
            "[0 0 0 ... 0 1 1]\n",
            "[0 0 1 ... 0 0 0]\n",
            "              precision    recall  f1-score   support\n",
            "\n",
            "           0       0.99      1.00      0.99       863\n",
            "           1       0.99      0.95      0.97       276\n",
            "\n",
            "    accuracy                           0.99      1139\n",
            "   macro avg       0.99      0.97      0.98      1139\n",
            "weighted avg       0.99      0.99      0.99      1139\n",
            "\n",
            "\n",
            "Confusion Matrix:  \n",
            " [[860   3]\n",
            " [ 13 263]]\n",
            "\n",
            "Accuracty :  \n",
            " 0.9859525899912204\n"
          ]
        }
      ],
      "source": [
        "#Using neural network:\n",
        "#Creating model\n",
        "model_mlpc = MLPClassifier(solver='lbfgs', alpha=1e-5,\n",
        "                    hidden_layer_sizes=(5, 2), random_state=1)\n",
        "model_mlpc.fit(X_train,y_train)\n",
        "\n",
        "\n",
        "#prediction on test data:\n",
        "print(cf.predict(X_test))\n",
        "\n",
        "#print the actual values:\n",
        "print(y_train.values)\n",
        "\n",
        "#Evaluate the model on the Test dataset\n",
        "from sklearn.metrics import classification_report, confusion_matrix, accuracy_score\n",
        "pred = model_mlpc.predict(X_test)\n",
        "print(classification_report(y_test,pred))\n",
        "print()\n",
        "print('Confusion Matrix:  \\n', confusion_matrix(y_test,pred))\n",
        "print()\n",
        "print('Accuracty :  \\n',accuracy_score(y_test,pred) )"
      ]
    },
    {
      "cell_type": "code",
      "execution_count": null,
      "metadata": {
        "id": "yRmS8inrl0DZ",
        "outputId": "0feeca0a-354a-43f2-8eca-0f1ce1113db2"
      },
      "outputs": [
        {
          "name": "stdout",
          "output_type": "stream",
          "text": [
            "[0 0 0 ... 0 1 1]\n",
            "[0 0 1 ... 0 0 0]\n",
            "              precision    recall  f1-score   support\n",
            "\n",
            "           0       0.91      0.98      0.95       863\n",
            "           1       0.94      0.71      0.81       276\n",
            "\n",
            "    accuracy                           0.92      1139\n",
            "   macro avg       0.93      0.85      0.88      1139\n",
            "weighted avg       0.92      0.92      0.91      1139\n",
            "\n",
            "\n",
            "Confusion Matrix:  \n",
            " [[850  13]\n",
            " [ 81 195]]\n",
            "\n",
            "Accuracty :  \n",
            " 0.9174714661984197\n"
          ]
        }
      ],
      "source": [
        "#Using KNeighbor Classifier:\n",
        "#Creating the model:\n",
        "model_neigh = KNeighborsClassifier(n_neighbors=3)\n",
        "\n",
        "model_neigh.fit(X_train,y_train)\n",
        "\n",
        "\n",
        "#prediction on test data:\n",
        "print(cf.predict(X_test))\n",
        "\n",
        "#print the actual values:\n",
        "print(y_train.values)\n",
        "\n",
        "#Evaluate the model on the Test dataset\n",
        "from sklearn.metrics import classification_report, confusion_matrix, accuracy_score\n",
        "pred = model_neigh.predict(X_test)\n",
        "print(classification_report(y_test,pred))\n",
        "print()\n",
        "print('Confusion Matrix:  \\n', confusion_matrix(y_test,pred))\n",
        "print()\n",
        "print('Accuracty :  \\n',accuracy_score(y_test,pred) )"
      ]
    },
    {
      "cell_type": "code",
      "execution_count": null,
      "metadata": {
        "id": "zAYazK_Wl0Da",
        "outputId": "59ec4761-e918-4081-a555-78c6f6ef4aa4"
      },
      "outputs": [
        {
          "name": "stdout",
          "output_type": "stream",
          "text": [
            "[0 0 0 ... 0 1 1]\n",
            "[0 0 1 ... 0 0 0]\n",
            "              precision    recall  f1-score   support\n",
            "\n",
            "           0       0.99      0.98      0.98       863\n",
            "           1       0.94      0.96      0.95       276\n",
            "\n",
            "    accuracy                           0.97      1139\n",
            "   macro avg       0.96      0.97      0.97      1139\n",
            "weighted avg       0.97      0.97      0.97      1139\n",
            "\n",
            "\n",
            "Confusion Matrix:  \n",
            " [[846  17]\n",
            " [ 12 264]]\n",
            "\n",
            "Accuracty :  \n",
            " 0.974539069359087\n"
          ]
        }
      ],
      "source": [
        "#Using AdaBoostClassifier\n",
        "#Creating model:\n",
        "model_Ada = AdaBoostClassifier(n_estimators=100, random_state=0)\n",
        "\n",
        "model_Ada.fit(X_train,y_train)\n",
        "\n",
        "#prediction on test data:\n",
        "print(cf.predict(X_test))\n",
        "\n",
        "#print the actual values:\n",
        "print(y_train.values)\n",
        "\n",
        "#Evaluate the model on the Test dataset\n",
        "from sklearn.metrics import classification_report, confusion_matrix, accuracy_score\n",
        "pred = model_Ada.predict(X_test)\n",
        "print(classification_report(y_test,pred))\n",
        "print()\n",
        "print('Confusion Matrix:  \\n', confusion_matrix(y_test,pred))\n",
        "print()\n",
        "print('Accuracty :  \\n',accuracy_score(y_test,pred) )"
      ]
    },
    {
      "cell_type": "code",
      "execution_count": null,
      "metadata": {
        "id": "LgCre7rLl0Db"
      },
      "outputs": [],
      "source": [
        "from matplotlib.colors import ListedColormap\n",
        "from sklearn.preprocessing import StandardScaler\n",
        "from sklearn.datasets import make_moons, make_circles, make_classification\n",
        "from sklearn.metrics import precision_score, recall_score, auc,roc_curve, f1_score\n",
        "import warnings\n",
        "warnings.filterwarnings('ignore')"
      ]
    },
    {
      "cell_type": "code",
      "execution_count": null,
      "metadata": {
        "id": "F28zQUxxl0Db"
      },
      "outputs": [],
      "source": [
        "names = [\"Naive Bayes\", \"Decision Tree\", \"SVC\", \n",
        "         \"Random Forest\", \"Neural Network\", \"KNeighbors\",\"AdaBoos\" ]"
      ]
    },
    {
      "cell_type": "code",
      "execution_count": null,
      "metadata": {
        "id": "fiznlqd8l0Db"
      },
      "outputs": [],
      "source": [
        "#Evaluate the model on the training data set\n",
        "classifiers = [MultinomialNB(), DecisionTreeClassifier(), SVC(),\n",
        "              RandomForestClassifier(n_estimators=20,criterion='entropy'),\n",
        "              MLPClassifier(solver='lbfgs', alpha=1e-5,\n",
        "                    hidden_layer_sizes=(5, 2), random_state=1),\n",
        "              KNeighborsClassifier(n_neighbors=3),AdaBoostClassifier(n_estimators=100, random_state=0) ]"
      ]
    },
    {
      "cell_type": "code",
      "execution_count": null,
      "metadata": {
        "id": "FuDKEVetl0Dc"
      },
      "outputs": [],
      "source": [
        "model_cols = []\n",
        "df=pd.DataFrame(columns=model_cols)\n",
        "index=0"
      ]
    },
    {
      "cell_type": "code",
      "execution_count": null,
      "metadata": {
        "id": "ozICoNC_l0Dc"
      },
      "outputs": [],
      "source": [
        "for name, clf in zip(names, classifiers):\n",
        "    clf.fit(X_train,y_train)\n",
        "    df.loc[index,'Classifiers'] = name\n",
        "    df.loc[index,'Train Accuracy'] = clf.score(X_train,y_train)\n",
        "    df.loc[index,'Test Accuracy'] = clf.score(X_test,y_test)\n",
        "    df.loc[index,'Precision'] = precision_score(y_test,clf.predict(X_test))\n",
        "    df.loc[index,'Recall'] = recall_score(y_test,clf.predict(X_test))\n",
        "    df.loc[index,'F1 Score'] = f1_score(y_test,clf.predict(X_test))\n",
        "    index+=1"
      ]
    },
    {
      "cell_type": "code",
      "execution_count": null,
      "metadata": {
        "scrolled": true,
        "id": "auuwMH-2l0Dc",
        "outputId": "886e1984-b2cc-45e0-e47d-a8fccc9086be"
      },
      "outputs": [
        {
          "data": {
            "image/png": "[encoded data removed]",
            "text/plain": [
              "<Figure size 432x288 with 1 Axes>"
            ]
          },
          "metadata": {
            "needs_background": "light"
          },
          "output_type": "display_data"
        }
      ],
      "source": [
        "import seaborn as sns\n",
        "import matplotlib.pyplot as plt\n",
        "from matplotlib.colors import ListedColormap\n",
        "\n",
        "sns.barplot(x='Classifiers',y='Train Accuracy', data=df, palette='hot',\n",
        "            \n",
        "           color = 'green')\n",
        "plt.xticks(rotation=90)\n",
        "plt.title('Model Test Accuracy Comparision')\n",
        "plt.show()"
      ]
    },
    {
      "cell_type": "code",
      "execution_count": null,
      "metadata": {
        "id": "D0o--Dk2l0Dd",
        "outputId": "c22a5a48-4353-48bd-dd7d-518a99fb852e"
      },
      "outputs": [
        {
          "data": {
            "image/png": "[encoded data removed]",
            "text/plain": [
              "<Figure size 432x288 with 1 Axes>"
            ]
          },
          "metadata": {
            "needs_background": "light"
          },
          "output_type": "display_data"
        }
      ],
      "source": [
        "import seaborn as sns\n",
        "sns.barplot(x='Classifiers',y='Precision', data=df, palette='hot',\n",
        "            edgecolor=sns.color_palette('dark',7))\n",
        "plt.xticks(rotation=90)\n",
        "plt.title('Model Precision Comparision')\n",
        "plt.show()"
      ]
    },
    {
      "cell_type": "code",
      "execution_count": null,
      "metadata": {
        "id": "_pNVR5qJl0Dd",
        "outputId": "4940371f-867e-48e9-dfe7-6a92071ed983"
      },
      "outputs": [
        {
          "data": {
            "image/png": "[encoded data removed]",
            "text/plain": [
              "<Figure size 432x288 with 1 Axes>"
            ]
          },
          "metadata": {
            "needs_background": "light"
          },
          "output_type": "display_data"
        }
      ],
      "source": [
        "sns.barplot(x='Classifiers',y='Recall', data=df, palette='hot',\n",
        "            edgecolor=sns.color_palette('dark',7))\n",
        "plt.xticks(rotation=90)\n",
        "plt.title('Model Recall Comparision')\n",
        "plt.show()\n"
      ]
    },
    {
      "cell_type": "code",
      "execution_count": null,
      "metadata": {
        "id": "vXu5Z7g-l0De",
        "outputId": "9396c3fc-ab99-4b13-c79e-f24489682a0a"
      },
      "outputs": [
        {
          "data": {
            "image/png": "[encoded data removed]",
            "text/plain": [
              "<Figure size 432x288 with 1 Axes>"
            ]
          },
          "metadata": {
            "needs_background": "light"
          },
          "output_type": "display_data"
        }
      ],
      "source": [
        "sns.barplot(x='Classifiers',y='F1 Score', data=df, palette='hot',\n",
        "            edgecolor=sns.color_palette('dark',7))\n",
        "plt.xticks(rotation=90)\n",
        "plt.title('Model F1 Score Comparision')\n",
        "plt.show()"
      ]
    }
  ],
  "metadata": {
    "kernelspec": {
      "display_name": "Python 3 (ipykernel)",
      "language": "python",
      "name": "python3"
    },
    "language_info": {
      "codemirror_mode": {
        "name": "ipython",
        "version": 3
      },
      "file_extension": ".py",
      "mimetype": "text/x-python",
      "name": "python",
      "nbconvert_exporter": "python",
      "pygments_lexer": "ipython3",
      "version": "3.9.7"
    },
    "varInspector": {
      "cols": {
        "lenName": 16,
        "lenType": 16,
        "lenVar": 40
      },
      "kernels_config": {
        "python": {
          "delete_cmd_postfix": "",
          "delete_cmd_prefix": "del ",
          "library": "var_list.py",
          "varRefreshCmd": "print(var_dic_list())"
        },
        "r": {
          "delete_cmd_postfix": ") ",
          "delete_cmd_prefix": "rm(",
          "library": "var_list.r",
          "varRefreshCmd": "cat(var_dic_list()) "
        }
      },
      "position": {
        "height": "346.836px",
        "left": "396.453px",
        "right": "20px",
        "top": "261.977px",
        "width": "800px"
      },
      "types_to_exclude": [
        "module",
        "function",
        "builtin_function_or_method",
        "instance",
        "_Feature"
      ],
      "window_display": false
    },
    "colab": {
      "name": "Machine_Learning_Project.ipynb",
      "provenance": [],
      "include_colab_link": true
    }
  },
  "nbformat": 4,
  "nbformat_minor": 0
}